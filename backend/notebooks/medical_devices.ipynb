{
 "cells": [
  {
   "cell_type": "code",
   "execution_count": 8,
   "id": "ac8fd236-e8e0-4b7a-b164-7259c4478f93",
   "metadata": {
    "tags": []
   },
   "outputs": [],
   "source": [
    "!pip install -qU \\\n",
    "    google-cloud-aiplatform \\\n",
    "    google-cloud-storage \\\n",
    "    llama-index \\\n",
    "    llama-index-embeddings-vertex \\\n",
    "    llama-index-llms-vertex \\\n",
    "    llama-index-vector_stores-vertexaivectorsearch \\\n",
    "    llama-index-llms-fireworks \\\n",
    "    llama-index-embeddings-huggingface \\\n",
    "    openpyxl \\\n",
    "    pandas"
   ]
  },
  {
   "cell_type": "code",
   "execution_count": 53,
   "id": "b5724df7-e90d-414a-ab7f-388c0534d05d",
   "metadata": {
    "tags": []
   },
   "outputs": [
    {
     "data": {
      "text/plain": [
       "{'status': 'ok', 'restart': True}"
      ]
     },
     "execution_count": 53,
     "metadata": {},
     "output_type": "execute_result"
    }
   ],
   "source": [
    "import IPython\n",
    "\n",
    "app = IPython.Application.instance()\n",
    "app.kernel.do_shutdown(True)"
   ]
  },
  {
   "cell_type": "code",
   "execution_count": null,
   "id": "bada1e80-0422-4d1b-ab43-b7bec455a5ae",
   "metadata": {
    "tags": []
   },
   "outputs": [],
   "source": [
    "# Imports\n",
    "import os\n",
    "import logging\n",
    "import re \n",
    "\n",
    "from google.cloud import aiplatform, storage\n",
    "from llama_index.core import (\n",
    "    Document,\n",
    "    PromptTemplate,\n",
    "    Settings,\n",
    "    SimpleDirectoryReader,\n",
    "    StorageContext,\n",
    "    SummaryIndex,\n",
    "    VectorStoreIndex,\n",
    ")\n",
    "from llama_index.core.agent import ReActAgent\n",
    "from llama_index.core.base.base_query_engine import BaseQueryEngine\n",
    "from llama_index.core.node_parser import SentenceSplitter\n",
    "from llama_index.core.objects import ObjectIndex\n",
    "from llama_index.core.prompts import LangchainPromptTemplate\n",
    "from llama_index.core.prompts.base import BasePromptTemplate\n",
    "from llama_index.core.tools import QueryEngineTool, ToolMetadata\n",
    "from llama_index.embeddings.vertex import VertexTextEmbedding\n",
    "from llama_index.llms.vertex import Vertex\n",
    "from llama_index.vector_stores.vertexaivectorsearch import VertexAIVectorStore"
   ]
  },
  {
   "cell_type": "code",
   "execution_count": null,
   "id": "e5341ea7-027f-4a58-931e-e10bf30b669f",
   "metadata": {
    "tags": []
   },
   "outputs": [],
   "source": [
    "from llama_index.llms.vertex import Vertex"
   ]
  },
  {
   "cell_type": "code",
   "execution_count": 3,
   "id": "5b571d8a-af89-47f3-87c6-330b2607d0fd",
   "metadata": {
    "tags": []
   },
   "outputs": [],
   "source": [
    "PROJECT_ID = \"\"  \n",
    "LOCATION = \"\"  \n",
    "\n",
    "import vertexai\n",
    "\n",
    "vertexai.init(project=PROJECT_ID, location=LOCATION)"
   ]
  },
  {
   "cell_type": "code",
   "execution_count": 4,
   "id": "16b1a14c-8d1d-409b-8342-f371150bfdff",
   "metadata": {
    "tags": []
   },
   "outputs": [
    {
     "name": "stderr",
     "output_type": "stream",
     "text": [
      "2025-02-09 10:40:34.109522: I tensorflow/core/platform/cpu_feature_guard.cc:193] This TensorFlow binary is optimized with oneAPI Deep Neural Network Library (oneDNN) to use the following CPU instructions in performance-critical operations:  AVX2 FMA\n",
      "To enable them in other operations, rebuild TensorFlow with the appropriate compiler flags.\n",
      "2025-02-09 10:40:35.471165: W tensorflow/compiler/xla/stream_executor/platform/default/dso_loader.cc:64] Could not load dynamic library 'libnvinfer.so.7'; dlerror: libnvinfer.so.7: cannot open shared object file: No such file or directory; LD_LIBRARY_PATH: /usr/local/cuda/lib64:/usr/local/nccl2/lib:/usr/local/cuda/extras/CUPTI/lib64:/usr/lib/x86_64-linux-gnu/:/opt/conda/lib\n",
      "2025-02-09 10:40:35.471356: W tensorflow/compiler/xla/stream_executor/platform/default/dso_loader.cc:64] Could not load dynamic library 'libnvinfer_plugin.so.7'; dlerror: libnvinfer_plugin.so.7: cannot open shared object file: No such file or directory; LD_LIBRARY_PATH: /usr/local/cuda/lib64:/usr/local/nccl2/lib:/usr/local/cuda/extras/CUPTI/lib64:/usr/lib/x86_64-linux-gnu/:/opt/conda/lib\n",
      "2025-02-09 10:40:35.471369: W tensorflow/compiler/tf2tensorrt/utils/py_utils.cc:38] TF-TRT Warning: Cannot dlopen some TensorRT libraries. If you would like to use Nvidia GPU with TensorRT, please make sure the missing libraries mentioned above are installed properly.\n"
     ]
    }
   ],
   "source": [
    "from llama_index.embeddings.huggingface import HuggingFaceEmbedding\n",
    "\n",
    "embed_model = HuggingFaceEmbedding(model_name=\"BAAI/bge-small-en-v1.5\")"
   ]
  },
  {
   "cell_type": "code",
   "execution_count": 5,
   "id": "5005c39a-685f-4191-890b-7c325a8fcda9",
   "metadata": {
    "tags": []
   },
   "outputs": [],
   "source": [
    "llm = Vertex(\"gemini-pro\")\n",
    "\n",
    "Settings.embed_model = embed_model\n",
    "Settings.llm = llm"
   ]
  },
  {
   "cell_type": "markdown",
   "id": "ead985ff-3a30-4ad0-8635-4140133a26e0",
   "metadata": {},
   "source": [
    "## Medical Devices "
   ]
  },
  {
   "cell_type": "code",
   "execution_count": 6,
   "id": "7b08c87b-37f1-42d4-89eb-72759889f4c3",
   "metadata": {
    "tags": []
   },
   "outputs": [
    {
     "name": "stdout",
     "output_type": "stream",
     "text": [
      "Sheet: Defibilators \n",
      "[\n",
      "  {\n",
      "    \"Product Title\": \"Defibrillator Auotmatic ZOLL\\u00ae X Series \",\n",
      "    \"Price\": 27850.0,\n",
      "    \"Manufacturer_code\": \"603-0220001-01\",\n",
      "    \"Model\": 1179643,\n",
      "    \"Brand\": \"Zoll\\u00ae X Series\",\n",
      "    \"Manufacturer_code.1\": \"603-0220001-01\",\n",
      "    \"Brand.1\": \"Zoll\\u00ae X Series\",\n",
      "    \"Manufacturer\": \"Zoll Medical\",\n",
      "    \"Country of Origin\": \"Unknown\",\n",
      "    \"Application\": \"Defibrillator\",\n",
      "    \"Charge Time\": \"7 Seconds\",\n",
      "    \"Contact Type\": \"Pads\",\n",
      "    \"Dimensions\": \"8.9 X 10.4 Inch\",\n",
      "    \"Display Type\": \"LCD Display\",\n",
      "    \"Energy Output\": \"1, 2, 3, 4, 5, 6, 7, 8, 9, 10, 15, 20, 30, 50, 70, 85, 100, 120, 150, 200 joules\",\n",
      "    \"Operation Type\": \"Auotmatic\",\n",
      "    \"Power Source\": \"AC Power / Battery Operated\",\n",
      "    \"Prompt Type\": \"Unknown\",\n",
      "    \"UNSPSC Code\": 42172101,\n",
      "    \"Weight\": \"11.7 lbs.\",\n",
      "    \"images\": NaN,\n",
      "    \"features\": \"At less than 12 pounds/6 kilograms, the X Series is up to half the size and weight of other full-featured devices, Its large, bright screen allows for simultaneous viewing of four traces, all 12 ECG leads, or static and dynamic 12-lead views on a \\u201csplit screen, The latest, most advanced and most complete monitoring capabilities, including gold standard Masimo\\u00ae full rainbow\\u00ae SET and Welch Allyn\\u2019s Rapid NIBP technologies can be added., CPR DashboardTM provides real-time numeric depth and rate values and has a CPR timer that switches to an idle timer when compressions are stopped, The release indicator and the perfusion performance indicator (PPI) also help maximize CPR performance\",\n",
      "    \"HCPCS\": \"Unknown\",\n",
      "    \"FSA Eligible - Sell UOM\": \"Unknown\",\n",
      "    \"product_options_display_types\": \"Unknown\",\n",
      "    \"product_options_operation_types\": \"Unknown\",\n",
      "    \"product_options_weights\": \"Unknown\",\n",
      "    \"product_options_dimensions\": \"Unknown\",\n",
      "    \"product_options_contact_types\": \"Unknown\"\n",
      "  },\n",
      "  {\n",
      "    \"Product Title\": \"Defibrillator Unit Automatic Zoll\\u00ae X Series Electrode Pads Contact\",\n",
      "    \"Price\": 27850.0,\n",
      "    \"Manufacturer_code\": \"601-2231111-01-68\",\n",
      "    \"Model\": 1241286,\n",
      "    \"Brand\": \"Zoll\\u00ae X Series\",\n",
      "    \"Manufacturer_code.1\": \"601-2231111-01-68\",\n",
      "    \"Brand.1\": \"Zoll\\u00ae X Series\",\n",
      "    \"Manufacturer\": \"Zoll Medical\",\n",
      "    \"Country of Origin\": \"Unknown\",\n",
      "    \"Application\": \"Defibrillator Unit\",\n",
      "    \"Charge Time\": \"5 Seconds\",\n",
      "    \"Contact Type\": \"Electrode Pads Contact\",\n",
      "    \"Dimensions\": \"Unknown\",\n",
      "    \"Display Type\": \"Unknown\",\n",
      "    \"Energy Output\": \"Unknown\",\n",
      "    \"Operation Type\": \"Automatic\",\n",
      "    \"Power Source\": \"Battery Operated\",\n",
      "    \"Prompt Type\": \"Unknown\",\n",
      "    \"UNSPSC Code\": 42172101,\n",
      "    \"Weight\": \"Unknown\",\n",
      "    \"images\": NaN,\n",
      "    \"features\": \"RapidShock analysis enables the industry\\u2019s shortest rhythm analysis and allows ZOLL AED 3 BLS to deliver a shock, if needed, in as little as 5 seconds, Minimizing pause time allows for more lifesaving CPR, improves CPR quality, and can improve patient outcomes from sudden cardiac arrest\",\n",
      "    \"HCPCS\": \"Unknown\",\n",
      "    \"FSA Eligible - Sell UOM\": \"Unknown\",\n",
      "    \"product_options_display_types\": \"Unknown\",\n",
      "    \"product_options_operation_types\": \"Unknown\",\n",
      "    \"product_options_weights\": \"Unknown\",\n",
      "    \"product_options_dimensions\": \"Unknown\",\n",
      "    \"product_options_contact_types\": \"Unknown\"\n",
      "  },\n",
      "  {\n",
      "    \"Product Title\": \"Defibrillator Unit Manual Operation Zoll\\u00ae R Series with, Nellcor, OneStep Pacing, NIBP\",\n",
      "    \"Price\": 15750.0,\n",
      "    \"Manufacturer_code\": \"30620006001330013\",\n",
      "    \"Model\": 1221834,\n",
      "    \"Brand\": \"Zoll\\u00ae R Series\",\n",
      "    \"Manufacturer_code.1\": \"30620006001330013\",\n",
      "    \"Brand.1\": \"Zoll\\u00ae R Series\",\n",
      "    \"Manufacturer\": \"Zoll Medical\",\n",
      "    \"Country of Origin\": \"Unknown\",\n",
      "    \"Application\": \"Defibrillator Unit\",\n",
      "    \"Charge Time\": \"7 Seconds\",\n",
      "    \"Contact Type\": \"Paddles Contact\",\n",
      "    \"Dimensions\": \"8.2 X 10.5 X 12.5 Inch\",\n",
      "    \"Display Type\": \"LCD Display\",\n",
      "    \"Energy Output\": \"1 to 10, 15, 20, 30, 50, 75, 100, 120, 150, and 200 joules\",\n",
      "    \"Operation Type\": \"Manual Operation\",\n",
      "    \"Power Source\": \"AC Power / Battery Operated\",\n",
      "    \"Prompt Type\": \"Voice Prompt\",\n",
      "    \"UNSPSC Code\": 42172101,\n",
      "    \"Weight\": \"13.6 lbs.\",\n",
      "    \"images\": \"https://imgcdn.mckesson.com/CumulusWeb/Images/High_Res/1221834_left.jpg\",\n",
      "    \"features\": \"Defibrillator with OneStep Pacing, SpO2, NIBP, Eliminates the need to connect separate ECG leads when used in conjunction with OneStep Pacing and OneStep Complete electrodes, The R Series BLS shows first time responders a simple, one-button AED interface, When the Code Team arrives, a member can simply press a button to turn the BLS device into a full-function manual defibrillator, R Series BLS is particularly good for low-acuity area, where advanced capabilities are rarely needed\",\n",
      "    \"HCPCS\": \"Unknown\",\n",
      "    \"FSA Eligible - Sell UOM\": \"Unknown\",\n",
      "    \"product_options_display_types\": \"Unknown\",\n",
      "    \"product_options_operation_types\": \"Unknown\",\n",
      "    \"product_options_weights\": \"13.6 lbs, 13.6 lbs.\",\n",
      "    \"product_options_dimensions\": \"Unknown\",\n",
      "    \"product_options_contact_types\": \"Unknown\"\n",
      "  }\n",
      "]\n",
      "  Total records in 'Defibilators ': 82\n",
      "\n",
      "\n",
      "Created 1 LlamaIndex Documents.\n",
      "JSON data saved to: data/excel_sheets_data.json\n"
     ]
    }
   ],
   "source": [
    "import pandas as pd\n",
    "import json\n",
    "from llama_index.core import Document\n",
    "import os\n",
    "\n",
    "# Define file paths\n",
    "excel_file = \"data/Defribilators-Only.xlsx\"\n",
    "json_dir = \"data\"\n",
    "json_file = os.path.join(json_dir, \"excel_sheets_data.json\")\n",
    "\n",
    "# Ensure the directory exists\n",
    "os.makedirs(json_dir, exist_ok=True)\n",
    "\n",
    "# Read the Excel file\n",
    "df_dict = pd.read_excel(excel_file, sheet_name=None)\n",
    "\n",
    "json_data = {}\n",
    "\n",
    "for sheet_name, sheet_df in df_dict.items():\n",
    "    sheet_records = sheet_df.to_dict(orient=\"records\")\n",
    "    json_data[sheet_name] = sheet_records\n",
    "\n",
    "    print(f\"Sheet: {sheet_name}\")\n",
    "    if len(sheet_records) > 0:\n",
    "        sample_records = sheet_records[:3]\n",
    "        print(json.dumps(sample_records, indent=2))\n",
    "    else:\n",
    "        print(\"  No records found.\")\n",
    "    \n",
    "    print(f\"  Total records in '{sheet_name}': {len(sheet_records)}\\n\")\n",
    "\n",
    "# Save JSON data in \"medical_devices/data/excel_sheets_data.json\"\n",
    "with open(json_file, \"w\", encoding=\"utf-8\") as f:\n",
    "    json.dump(json_data, f, indent=2, ensure_ascii=False)\n",
    "\n",
    "documents = []\n",
    "for sheet_name, sheet_records in json_data.items():\n",
    "    json_str = json.dumps(sheet_records, ensure_ascii=False)\n",
    "    doc = Document(text=json_str, metadata={\"sheet_name\": sheet_name})\n",
    "    documents.append(doc)\n",
    "\n",
    "print(f\"\\nCreated {len(documents)} LlamaIndex Documents.\")\n",
    "print(f\"JSON data saved to: {json_file}\")\n"
   ]
  },
  {
   "cell_type": "code",
   "execution_count": 8,
   "id": "0bec71f9-ab5f-4251-9067-90c09bd03586",
   "metadata": {
    "tags": []
   },
   "outputs": [
    {
     "name": "stdout",
     "output_type": "stream",
     "text": [
      "Query: Which products are from the USA and have a charge time under 2 hours?\n",
      "Answer: The following products are from the USA and have a charge time under 2 hours:\n",
      "\n",
      "* Refurbished AED Automatic Philips Pads\n",
      "* Refurbished AED Unit Semi-Automatic Powerheart® AED G3 Electrode Pads Contact\n",
      "* AED Unit Automatic Zoll®\n"
     ]
    }
   ],
   "source": [
    "# 1. Import VectorStoreIndex from llama_index\n",
    "from llama_index.core import VectorStoreIndex\n",
    "\n",
    "# 2. Build an index from your existing 'documents' list\n",
    "index = VectorStoreIndex.from_documents(documents)\n",
    "\n",
    "# 3. Create a query engine\n",
    "query_engine = index.as_query_engine()\n",
    "\n",
    "# 4. Ask a sample question\n",
    "query = \"Which products are from the USA and have a charge time under 2 hours?\"\n",
    "response = query_engine.query(query)\n",
    "\n",
    "print(\"Query:\", query)\n",
    "print(\"Answer:\", response.response)\n"
   ]
  },
  {
   "cell_type": "code",
   "execution_count": 9,
   "id": "ebeda613-5bb1-446a-b330-48ec9bbc0fe1",
   "metadata": {
    "tags": []
   },
   "outputs": [
    {
     "name": "stdout",
     "output_type": "stream",
     "text": [
      "Query: Which products cost under $200 and are made in the USA?\n",
      "Answer: I am sorry, but based on the provided context, there are no products that cost under $200 and are made in the USA. The context only provides information about defibrillators, and none of them are listed as being made in the USA. Additionally, the context does not provide any information about the price of the defibrillators.\n",
      "————————————————————————————————————————————————————————————\n",
      "Query: Which defibrillators have a charge time of 1 hour or less and weigh under 2 lbs?\n",
      "Answer: ## Defibrillators with Charge Time of 1 Hour or Less and Weight Under 2 lbs\n",
      "\n",
      "Based on the provided context, there are no defibrillators that meet both criteria of having a charge time of 1 hour or less and weighing under 2 lbs. \n",
      "\n",
      "Here's a breakdown of the defibrillators listed:\n",
      "\n",
      "* **Refurbished Defibrillator Unit Automatic Philips HeartStart® XL Paddles Contact:** Charge time of 3 seconds, weight of 14 lbs.\n",
      "* **AED Unit Automatic AED Plus®:** Charge time of 10 seconds, weight unknown.\n",
      "* **Reconditioned Defibrillator Unit Semi-Automatic Lifepak® 20 Paddles Contact:** Charge time of 10 seconds, weight of 5.58 kg (approximately 12.3 lbs).\n",
      "* **Defibrillator Unit Semi-Automatic AED Plus® Electrode Pads Contact:** Charge time of 10 seconds, weight unknown.\n",
      "* **AED Unit Semi-Automatic AED Plus® Electrode Pads Contact:** Charge time of 10 seconds, weight of 6.7 lbs.\n",
      "\n",
      "As you can see, all the defibrillators have a charge time of 10 seconds or less, but none weigh under 2 lbs. The lightest defibrillator listed weighs 5.58 kg (approximately 12.3 lbs). \n",
      "\n",
      "Therefore, based on the provided context, there are no defibrillators that meet both criteria. \n",
      "\n",
      "————————————————————————————————————————————————————————————\n",
      "Query: Which items are labeled with FSA Eligible - Sell UOM and come from Brand XYZ?\n",
      "Answer: ## Items labeled with FSA Eligible - Sell UOM and from Brand XYZ:\n",
      "\n",
      "Based on the provided context, I am unable to determine which items are labeled with FSA Eligible - Sell UOM and come from Brand XYZ. The context does not contain information about FSA eligibility or the brand XYZ. \n",
      "\n",
      "Please provide additional context or clarify your query for a more accurate response. \n",
      "\n",
      "————————————————————————————————————————————————————————————\n",
      "Query: Which products have an Operation Type of ‘Automatic’ and come from Manufacturer ABC?\n",
      "Answer: ## Products with Operation Type 'Automatic' from Manufacturer ABC\n",
      "\n",
      "Based on the provided context, there are no products with an Operation Type of 'Automatic' and a Manufacturer of 'ABC'. \n",
      "\n",
      "Here's a breakdown of the products and their manufacturers:\n",
      "\n",
      "* **Refurbished AED Automatic Philips Pads:** Manufacturer - Dre Equipment\n",
      "* **Refurbished Defibrillator Unit Philips HeartStart® FRx:** Manufacturer - Soma Technology\n",
      "* **Refurbished AED Unit Semi-Automatic Powerheart® AED G3 Electrode Pads Contact:** Manufacturer - Auxo Medical\n",
      "* **AED Automatic HeartSine Pad 450P:** Manufacturer - Monet Medical\n",
      "* **AED Unit Automatic Defibtech Lifeline Electrode Pads Contact:** Manufacturer - Grainger\n",
      "* **AED Unit Automatic Philips HeartStart® OnSite Electrode Pads Contact:** Manufacturer - Philips Healthcare\n",
      "\n",
      "It's important to note that the context information only includes a limited number of products and manufacturers. It's possible that there are other products with an Operation Type of 'Automatic' and a Manufacturer of 'ABC' that are not included in this context. \n",
      "\n",
      "————————————————————————————————————————————————————————————\n",
      "Query: List all defibrillators with a display type of ‘LCD’ and an energy output of at least 200 Joules.\n",
      "Answer: ## Defibrillators with LCD Display and Energy Output of at least 200 Joules:\n",
      "\n",
      "Based on the provided context, here are the defibrillators with an LCD display and an energy output of at least 200 Joules:\n",
      "\n",
      "* **Refurbished Defibrillator Unit**:\n",
      "    * **Price:** $2,000.00\n",
      "    * **Manufacturer:** Soma Technology\n",
      "    * **Model:** 1211942\n",
      "    * **Brand:** Zoll®\n",
      "    * **Energy Output:** 150 to 360 joules\n",
      "    * **Display Type:** LCD\n",
      "    * **Contact Type:** Electrode Pads Contact\n",
      "    * **Features:** \n",
      "        * Refurbished in an ISO 13485 Certified FDA registered Facility\n",
      "        * Patient connection: 12-lead ECG cable\n",
      "* **Defibrillator Unit Philips HeartStart® FRx**:\n",
      "    * **Price:** $1,950.00\n",
      "    * **Manufacturer:** Monet Medical\n",
      "    * **Model:** 1214105\n",
      "    * **Brand:** Philips HeartStart® FRx\n",
      "    * **Energy Output:** Unknown\n",
      "    * **Display Type:** Unknown\n",
      "    * **Contact Type:** Unknown\n",
      "    * **Features:** \n",
      "        * Defibrillator Package includes: manual, battery, SMART Pads (1 set), a quick reference guide & 8 year warranty and the battery includes a 4-year warranty from the time of installation, SMART Pads II warranty extends to the expiration date on the package.\n",
      "\n",
      "**Note:** The information for the \"Defibrillator Unit Philips HeartStart® FRx\" regarding energy output and display type is unavailable in the provided context. \n",
      "\n",
      "————————————————————————————————————————————————————————————\n"
     ]
    }
   ],
   "source": [
    "# 4. Ask a sample question\n",
    "query = \"Which products cost under $200 and are made in the USA?\"\n",
    "response = query_engine.query(query)\n",
    "\n",
    "print(\"Query:\", query)\n",
    "print(\"Answer:\", response.response)\n",
    "print(\"—\"*60)\n",
    "\n",
    "# 4. Ask a sample question\n",
    "query = \"Which defibrillators have a charge time of 1 hour or less and weigh under 2 lbs?\"\n",
    "response = query_engine.query(query)\n",
    "\n",
    "print(\"Query:\", query)\n",
    "print(\"Answer:\", response.response)\n",
    "print(\"—\"*60)\n",
    "\n",
    "# 4. Ask a sample question\n",
    "query = \"Which items are labeled with FSA Eligible - Sell UOM and come from Brand XYZ?\"\n",
    "response = query_engine.query(query)\n",
    "\n",
    "print(\"Query:\", query)\n",
    "print(\"Answer:\", response.response)\n",
    "print(\"—\"*60)\n",
    "\n",
    "# 4. Ask a sample question\n",
    "query = \"Which products have an Operation Type of ‘Automatic’ and come from Manufacturer ABC?\"\n",
    "response = query_engine.query(query)\n",
    "\n",
    "print(\"Query:\", query)\n",
    "print(\"Answer:\", response.response)\n",
    "print(\"—\"*60)\n",
    "\n",
    "# 4. Ask a sample question\n",
    "query = \"List all defibrillators with a display type of ‘LCD’ and an energy output of at least 200 Joules.\"\n",
    "response = query_engine.query(query)\n",
    "\n",
    "print(\"Query:\", query)\n",
    "print(\"Answer:\", response.response)\n",
    "print(\"—\"*60)\n"
   ]
  },
  {
   "cell_type": "markdown",
   "id": "96d9af10-4923-47ca-9154-45472d662cda",
   "metadata": {},
   "source": [
    "## ReACT"
   ]
  },
  {
   "cell_type": "code",
   "execution_count": 10,
   "id": "573beff3-ca91-4b9e-b423-c2358fc3075d",
   "metadata": {
    "tags": []
   },
   "outputs": [],
   "source": [
    "# ========= Build ReAct agent on top of your existing documents ==========\n",
    "\n",
    "# 1. Build a vector index from documents\n",
    "from llama_index.core import VectorStoreIndex\n",
    "\n",
    "\n",
    "index = VectorStoreIndex.from_documents(documents)\n",
    "\n",
    "# (Optional) Persist the index so you can load it later without rebuilding\n",
    "index.storage_context.persist(persist_dir=\"./storage/defibrillators_index\")"
   ]
  },
  {
   "cell_type": "code",
   "execution_count": 11,
   "id": "553daf73-183b-4e77-926a-f3ba25561528",
   "metadata": {
    "tags": []
   },
   "outputs": [],
   "source": [
    "# 2. Create a QueryEngine with top_k=3\n",
    "query_engine = index.as_query_engine(similarity_top_k=3)\n",
    "\n",
    "# 3. Wrap the QueryEngine in a QueryEngineTool\n",
    "from llama_index.core.tools import QueryEngineTool, ToolMetadata\n",
    "from llama_index.core.agent import ReActAgent\n",
    "\n",
    "query_engine_tool = QueryEngineTool(\n",
    "    query_engine=query_engine,\n",
    "    metadata=ToolMetadata(\n",
    "        name=\"defibrillator_data\",\n",
    "        description=(\n",
    "            \"Provides information about defibrillator product data, \"\n",
    "            \"including Price, Brand, Manufacturer Code, Model, Country of Origin, etc. \"\n",
    "        ),\n",
    "    ),\n",
    ")"
   ]
  },
  {
   "cell_type": "code",
   "execution_count": 12,
   "id": "81c92210-fc83-42c3-8148-65213c53fe47",
   "metadata": {
    "tags": []
   },
   "outputs": [],
   "source": [
    "\n",
    "# 4. Initialize ReActAgent with a single tool and your desired LLM\n",
    "\n",
    "agent = ReActAgent.from_tools(\n",
    "    [query_engine_tool],\n",
    "    llm=llm,\n",
    "    verbose=True\n",
    ")"
   ]
  },
  {
   "cell_type": "code",
   "execution_count": 13,
   "id": "095a29b4-1aed-47dd-a785-4c24930c5ecb",
   "metadata": {
    "tags": []
   },
   "outputs": [
    {
     "name": "stdout",
     "output_type": "stream",
     "text": [
      "> Running step 6c545375-ee32-4466-bcb1-05721e83d811. Step input: Which products are from the USA and have a charge time under 2 hours?\n",
      "\u001b[1;3;38;5;200mThought: The current language of the user is: English. I need to use a tool to help me answer the question.\n",
      "Action: defibrillator_data\n",
      "Action Input: {'input': 'Which products are from the USA and have a charge time under 2 hours?'}\n",
      "\u001b[0m\u001b[1;3;34mObservation: ## Products from the USA with a charge time under 2 hours:\n",
      "\n",
      "Based on the provided context, the following products are from the USA and have a charge time under 2 hours:\n",
      "\n",
      "* **Refurbished AED Automatic Philips Pads:** This product is from the USA and has a charge time of 20 seconds.\n",
      "* **Refurbished AED Unit Semi-Automatic AED Plus® Electrode Pads Contact:** This product is from the USA and has a charge time of 10 seconds.\n",
      "* **AED Unit Automatic Zoll®:** This product is from the USA and has a charge time of 10 seconds.\n",
      "\n",
      "**Note:** The context does not provide information about the charge time for all products. Therefore, it is not possible to determine whether any other products meet the specified criteria. \n",
      "\n",
      "\u001b[0m> Running step 296940c8-0c37-49ab-b319-f54956b01af9. Step input: None\n",
      "\u001b[1;3;38;5;200mThought: I can answer without using any more tools. I'll use the user's language to answer\n",
      "Answer: The following products are from the USA and have a charge time under 2 hours:\n",
      "\n",
      "* Refurbished AED Automatic Philips Pads (20 seconds)\n",
      "* Refurbished AED Unit Semi-Automatic AED Plus® Electrode Pads Contact (10 seconds)\n",
      "* AED Unit Automatic Zoll® (10 seconds)\n",
      "\n",
      "Please note that the context does not provide information about the charge time for all products. Therefore, it is not possible to determine whether any other products meet the specified criteria.\n",
      "\u001b[0mUser Query: Which products are from the USA and have a charge time under 2 hours?\n",
      "Agent Response: The following products are from the USA and have a charge time under 2 hours:\n",
      "\n",
      "* Refurbished AED Automatic Philips Pads (20 seconds)\n",
      "* Refurbished AED Unit Semi-Automatic AED Plus® Electrode Pads Contact (10 seconds)\n",
      "* AED Unit Automatic Zoll® (10 seconds)\n",
      "\n",
      "Please note that the context does not provide information about the charge time for all products. Therefore, it is not possible to determine whether any other products meet the specified criteria.\n",
      "------------------------------------------------------------\n"
     ]
    }
   ],
   "source": [
    "\n",
    "# 5. Ask a question\n",
    "response = agent.chat(\"Which products are from the USA and have a charge time under 2 hours?\")\n",
    "print(\"User Query:\", \"Which products are from the USA and have a charge time under 2 hours?\")\n",
    "print(\"Agent Response:\", str(response))\n",
    "\n",
    "print(\"------------------------------------------------------------\")\n"
   ]
  },
  {
   "cell_type": "code",
   "execution_count": 14,
   "id": "5afcb735-64e9-4f72-a1eb-6deeca7acb4a",
   "metadata": {
    "tags": []
   },
   "outputs": [
    {
     "name": "stdout",
     "output_type": "stream",
     "text": [
      "> Running step e93d3ccb-b6a0-446a-a2d0-e55c0d26d212. Step input: List all defibrillators with a display type of ‘LCD’ and an energy output of at least 200 Joules.\n",
      "\u001b[1;3;34mObservation: Error: Could not parse output. Please follow the thought-action-input format. Try again.\n",
      "\u001b[0m> Running step 9ccf3bd0-a6fb-4d34-88b9-0c2cb262b64c. Step input: None\n",
      "\u001b[1;3;34mObservation: Error: Could not parse output. Please follow the thought-action-input format. Try again.\n",
      "\u001b[0m> Running step 34ee68fc-3d60-4388-b339-04ffdbda1185. Step input: None\n",
      "\u001b[1;3;34mObservation: Error: Could not parse output. Please follow the thought-action-input format. Try again.\n",
      "\u001b[0m> Running step 3245c2ac-63f2-49b9-80d1-d40ac7e04319. Step input: None\n",
      "\u001b[1;3;38;5;200mThought: The current language of the user is: English. I need to use a tool to help me answer the question.\n",
      "Action: defibrillator_data\n",
      "Action Input: {'input': 'List all defibrillators with a display type of ‘LCD’ and an energy output of at least 200 Joules.'}\n",
      "\u001b[0m\u001b[1;3;34mObservation: ## Defibrillators with LCD Display and Energy Output of at least 200 Joules:\n",
      "\n",
      "Based on the provided context, here are the defibrillators with an LCD display and an energy output of at least 200 Joules:\n",
      "\n",
      "* **Refurbished Defibrillator Unit** (Manufacturer: Soma Technology, Model: 943822)\n",
      "    * Energy Output: 360 joules\n",
      "    * Display Type: LCD Display\n",
      "* **Refurbished AED Unit Automatic Zoll® Electrode Pads Contact** (Manufacturer: Zoll Medical, Model: 1211870)\n",
      "    * Energy Output: Adult 120 J, 150 J, 200 J, 50 J\n",
      "    * Display Type: LCD Display\n",
      "\n",
      "**Note:** The context does not provide information about the energy output of the \"Refurbished Defibrillator Unit Semi-Automatic Zoll®\" or the \"Defibrillator Unit Philips HeartStart® FRx\". Therefore, these models are not included in the list. \n",
      "\n",
      "\u001b[0m> Running step a9b57159-56af-48cc-8964-30afaf163e72. Step input: None\n",
      "\u001b[1;3;38;5;200mThought: (Implicit) I can answer without any more tools!\n",
      "Answer: ## Defibrillators with LCD Display and Energy Output of at least 200 Joules:\n",
      "\n",
      "Based on the provided context, here are the defibrillators with an LCD display and an energy output of at least 200 Joules:\n",
      "\n",
      "* **Refurbished Defibrillator Unit** (Manufacturer: Soma Technology, Model: 943822)\n",
      "    * Energy Output: 360 joules\n",
      "    * Display Type: LCD Display\n",
      "* **Refurbished AED Unit Automatic Zoll® Electrode Pads Contact** (Manufacturer: Zoll Medical, Model: 1211870)\n",
      "    * Energy Output: Adult 120 J, 150 J, 200 J, 50 J\n",
      "    * Display Type: LCD Display\n",
      "\n",
      "**Note:** The context does not provide information about the energy output of the \"Refurbished Defibrillator Unit Semi-Automatic Zoll®\" or the \"Defibrillator Unit Philips HeartStart® FRx\". Therefore, these models are not included in the list. \n",
      "\n",
      "\u001b[0mUser Query: List all defibrillators with a display type of ‘LCD’ and an energy output of at least 200 Joules.\n",
      "Agent Response: ## Defibrillators with LCD Display and Energy Output of at least 200 Joules:\n",
      "\n",
      "Based on the provided context, here are the defibrillators with an LCD display and an energy output of at least 200 Joules:\n",
      "\n",
      "* **Refurbished Defibrillator Unit** (Manufacturer: Soma Technology, Model: 943822)\n",
      "    * Energy Output: 360 joules\n",
      "    * Display Type: LCD Display\n",
      "* **Refurbished AED Unit Automatic Zoll® Electrode Pads Contact** (Manufacturer: Zoll Medical, Model: 1211870)\n",
      "    * Energy Output: Adult 120 J, 150 J, 200 J, 50 J\n",
      "    * Display Type: LCD Display\n",
      "\n",
      "**Note:** The context does not provide information about the energy output of the \"Refurbished Defibrillator Unit Semi-Automatic Zoll®\" or the \"Defibrillator Unit Philips HeartStart® FRx\". Therefore, these models are not included in the list. \n",
      "\n",
      "------------------------------------------------------------\n"
     ]
    }
   ],
   "source": [
    "\n",
    "# 5. Ask a question\n",
    "response = agent.chat(\"List all defibrillators with a display type of ‘LCD’ and an energy output of at least 200 Joules.\")\n",
    "print(\"User Query:\", \"List all defibrillators with a display type of ‘LCD’ and an energy output of at least 200 Joules.\")\n",
    "print(\"Agent Response:\", str(response))\n",
    "\n",
    "print(\"------------------------------------------------------------\")\n"
   ]
  },
  {
   "cell_type": "code",
   "execution_count": null,
   "id": "82bcaaa8-990a-4ce0-9422-5f7e19bdfc70",
   "metadata": {},
   "outputs": [],
   "source": []
  }
 ],
 "metadata": {
  "environment": {
   "kernel": "conda-env-tensorflow-tensorflow",
   "name": "workbench-notebooks.m125",
   "type": "gcloud",
   "uri": "us-docker.pkg.dev/deeplearning-platform-release/gcr.io/workbench-notebooks:m125"
  },
  "kernelspec": {
   "display_name": "TensorFlow 2-11 (Local)",
   "language": "python",
   "name": "conda-env-tensorflow-tensorflow"
  },
  "language_info": {
   "codemirror_mode": {
    "name": "ipython",
    "version": 3
   },
   "file_extension": ".py",
   "mimetype": "text/x-python",
   "name": "python",
   "nbconvert_exporter": "python",
   "pygments_lexer": "ipython3",
   "version": "3.10.15"
  }
 },
 "nbformat": 4,
 "nbformat_minor": 5
}
